{
  "nbformat": 4,
  "nbformat_minor": 0,
  "metadata": {
    "colab": {
      "name": "finalMathProject.ipynb",
      "provenance": [],
      "collapsed_sections": [],
      "include_colab_link": true
    },
    "kernelspec": {
      "name": "python3",
      "display_name": "Python 3"
    },
    "language_info": {
      "name": "python"
    }
  },
  "cells": [
    {
      "cell_type": "markdown",
      "metadata": {
        "id": "view-in-github",
        "colab_type": "text"
      },
      "source": [
        "<a href=\"https://colab.research.google.com/github/shwejanraj/AAvaTreap/blob/master/finalMathProject.ipynb\" target=\"_parent\"><img src=\"https://colab.research.google.com/assets/colab-badge.svg\" alt=\"Open In Colab\"/></a>"
      ]
    },
    {
      "cell_type": "markdown",
      "source": [
        "K-means clustering"
      ],
      "metadata": {
        "id": "eS_Lg2lrM8mr"
      }
    },
    {
      "cell_type": "code",
      "source": [
        "import numpy as np \n",
        "import pandas as pd\n",
        "import matplotlib.pyplot as plt\n",
        "from sklearn.cluster import KMeans, SpectralClustering,AgglomerativeClustering\n",
        "from sklearn.preprocessing import MinMaxScaler,normalize\n",
        "from sklearn.decomposition import PCA\n",
        "from sklearn import metrics\n",
        "from sklearn.mixture import GaussianMixture\n",
        "import scipy.cluster.hierarchy as shc\n",
        "import time\n"
      ],
      "metadata": {
        "id": "wQV5sR-qM6J_"
      },
      "execution_count": null,
      "outputs": []
    },
    {
      "cell_type": "code",
      "source": [
        "df = pd.read_csv('Iris.csv')\n",
        "df.shape"
      ],
      "metadata": {
        "colab": {
          "base_uri": "https://localhost:8080/"
        },
        "id": "SFXx9LrBNsjN",
        "outputId": "3fcabe0b-49c4-4cd4-8e9f-1dd6f01e84fb"
      },
      "execution_count": null,
      "outputs": [
        {
          "output_type": "execute_result",
          "data": {
            "text/plain": [
              "(150, 6)"
            ]
          },
          "metadata": {},
          "execution_count": 3
        }
      ]
    },
    {
      "cell_type": "code",
      "source": [
        "df.sample(5)"
      ],
      "metadata": {
        "colab": {
          "base_uri": "https://localhost:8080/",
          "height": 206
        },
        "id": "GGsGLr0AN2br",
        "outputId": "36e8d49f-8419-4dc0-e960-b3360a8cfc9f"
      },
      "execution_count": null,
      "outputs": [
        {
          "output_type": "execute_result",
          "data": {
            "text/html": [
              "\n",
              "  <div id=\"df-3ecd049e-8771-4b18-bb29-e05a44fdbe7a\">\n",
              "    <div class=\"colab-df-container\">\n",
              "      <div>\n",
              "<style scoped>\n",
              "    .dataframe tbody tr th:only-of-type {\n",
              "        vertical-align: middle;\n",
              "    }\n",
              "\n",
              "    .dataframe tbody tr th {\n",
              "        vertical-align: top;\n",
              "    }\n",
              "\n",
              "    .dataframe thead th {\n",
              "        text-align: right;\n",
              "    }\n",
              "</style>\n",
              "<table border=\"1\" class=\"dataframe\">\n",
              "  <thead>\n",
              "    <tr style=\"text-align: right;\">\n",
              "      <th></th>\n",
              "      <th>Id</th>\n",
              "      <th>SepalLengthCm</th>\n",
              "      <th>SepalWidthCm</th>\n",
              "      <th>PetalLengthCm</th>\n",
              "      <th>PetalWidthCm</th>\n",
              "      <th>Species</th>\n",
              "    </tr>\n",
              "  </thead>\n",
              "  <tbody>\n",
              "    <tr>\n",
              "      <th>89</th>\n",
              "      <td>90</td>\n",
              "      <td>5.5</td>\n",
              "      <td>2.5</td>\n",
              "      <td>4.0</td>\n",
              "      <td>1.3</td>\n",
              "      <td>Iris-versicolor</td>\n",
              "    </tr>\n",
              "    <tr>\n",
              "      <th>22</th>\n",
              "      <td>23</td>\n",
              "      <td>4.6</td>\n",
              "      <td>3.6</td>\n",
              "      <td>1.0</td>\n",
              "      <td>0.2</td>\n",
              "      <td>Iris-setosa</td>\n",
              "    </tr>\n",
              "    <tr>\n",
              "      <th>108</th>\n",
              "      <td>109</td>\n",
              "      <td>6.7</td>\n",
              "      <td>2.5</td>\n",
              "      <td>5.8</td>\n",
              "      <td>1.8</td>\n",
              "      <td>Iris-virginica</td>\n",
              "    </tr>\n",
              "    <tr>\n",
              "      <th>141</th>\n",
              "      <td>142</td>\n",
              "      <td>6.9</td>\n",
              "      <td>3.1</td>\n",
              "      <td>5.1</td>\n",
              "      <td>2.3</td>\n",
              "      <td>Iris-virginica</td>\n",
              "    </tr>\n",
              "    <tr>\n",
              "      <th>54</th>\n",
              "      <td>55</td>\n",
              "      <td>6.5</td>\n",
              "      <td>2.8</td>\n",
              "      <td>4.6</td>\n",
              "      <td>1.5</td>\n",
              "      <td>Iris-versicolor</td>\n",
              "    </tr>\n",
              "  </tbody>\n",
              "</table>\n",
              "</div>\n",
              "      <button class=\"colab-df-convert\" onclick=\"convertToInteractive('df-3ecd049e-8771-4b18-bb29-e05a44fdbe7a')\"\n",
              "              title=\"Convert this dataframe to an interactive table.\"\n",
              "              style=\"display:none;\">\n",
              "        \n",
              "  <svg xmlns=\"http://www.w3.org/2000/svg\" height=\"24px\"viewBox=\"0 0 24 24\"\n",
              "       width=\"24px\">\n",
              "    <path d=\"M0 0h24v24H0V0z\" fill=\"none\"/>\n",
              "    <path d=\"M18.56 5.44l.94 2.06.94-2.06 2.06-.94-2.06-.94-.94-2.06-.94 2.06-2.06.94zm-11 1L8.5 8.5l.94-2.06 2.06-.94-2.06-.94L8.5 2.5l-.94 2.06-2.06.94zm10 10l.94 2.06.94-2.06 2.06-.94-2.06-.94-.94-2.06-.94 2.06-2.06.94z\"/><path d=\"M17.41 7.96l-1.37-1.37c-.4-.4-.92-.59-1.43-.59-.52 0-1.04.2-1.43.59L10.3 9.45l-7.72 7.72c-.78.78-.78 2.05 0 2.83L4 21.41c.39.39.9.59 1.41.59.51 0 1.02-.2 1.41-.59l7.78-7.78 2.81-2.81c.8-.78.8-2.07 0-2.86zM5.41 20L4 18.59l7.72-7.72 1.47 1.35L5.41 20z\"/>\n",
              "  </svg>\n",
              "      </button>\n",
              "      \n",
              "  <style>\n",
              "    .colab-df-container {\n",
              "      display:flex;\n",
              "      flex-wrap:wrap;\n",
              "      gap: 12px;\n",
              "    }\n",
              "\n",
              "    .colab-df-convert {\n",
              "      background-color: #E8F0FE;\n",
              "      border: none;\n",
              "      border-radius: 50%;\n",
              "      cursor: pointer;\n",
              "      display: none;\n",
              "      fill: #1967D2;\n",
              "      height: 32px;\n",
              "      padding: 0 0 0 0;\n",
              "      width: 32px;\n",
              "    }\n",
              "\n",
              "    .colab-df-convert:hover {\n",
              "      background-color: #E2EBFA;\n",
              "      box-shadow: 0px 1px 2px rgba(60, 64, 67, 0.3), 0px 1px 3px 1px rgba(60, 64, 67, 0.15);\n",
              "      fill: #174EA6;\n",
              "    }\n",
              "\n",
              "    [theme=dark] .colab-df-convert {\n",
              "      background-color: #3B4455;\n",
              "      fill: #D2E3FC;\n",
              "    }\n",
              "\n",
              "    [theme=dark] .colab-df-convert:hover {\n",
              "      background-color: #434B5C;\n",
              "      box-shadow: 0px 1px 3px 1px rgba(0, 0, 0, 0.15);\n",
              "      filter: drop-shadow(0px 1px 2px rgba(0, 0, 0, 0.3));\n",
              "      fill: #FFFFFF;\n",
              "    }\n",
              "  </style>\n",
              "\n",
              "      <script>\n",
              "        const buttonEl =\n",
              "          document.querySelector('#df-3ecd049e-8771-4b18-bb29-e05a44fdbe7a button.colab-df-convert');\n",
              "        buttonEl.style.display =\n",
              "          google.colab.kernel.accessAllowed ? 'block' : 'none';\n",
              "\n",
              "        async function convertToInteractive(key) {\n",
              "          const element = document.querySelector('#df-3ecd049e-8771-4b18-bb29-e05a44fdbe7a');\n",
              "          const dataTable =\n",
              "            await google.colab.kernel.invokeFunction('convertToInteractive',\n",
              "                                                     [key], {});\n",
              "          if (!dataTable) return;\n",
              "\n",
              "          const docLinkHtml = 'Like what you see? Visit the ' +\n",
              "            '<a target=\"_blank\" href=https://colab.research.google.com/notebooks/data_table.ipynb>data table notebook</a>'\n",
              "            + ' to learn more about interactive tables.';\n",
              "          element.innerHTML = '';\n",
              "          dataTable['output_type'] = 'display_data';\n",
              "          await google.colab.output.renderOutput(dataTable, element);\n",
              "          const docLink = document.createElement('div');\n",
              "          docLink.innerHTML = docLinkHtml;\n",
              "          element.appendChild(docLink);\n",
              "        }\n",
              "      </script>\n",
              "    </div>\n",
              "  </div>\n",
              "  "
            ],
            "text/plain": [
              "      Id  SepalLengthCm  ...  PetalWidthCm          Species\n",
              "89    90            5.5  ...           1.3  Iris-versicolor\n",
              "22    23            4.6  ...           0.2      Iris-setosa\n",
              "108  109            6.7  ...           1.8   Iris-virginica\n",
              "141  142            6.9  ...           2.3   Iris-virginica\n",
              "54    55            6.5  ...           1.5  Iris-versicolor\n",
              "\n",
              "[5 rows x 6 columns]"
            ]
          },
          "metadata": {},
          "execution_count": 4
        }
      ]
    },
    {
      "cell_type": "code",
      "source": [
        "df.groupby('Species').size().plot.bar()\n",
        "plt.show()"
      ],
      "metadata": {
        "colab": {
          "base_uri": "https://localhost:8080/",
          "height": 337
        },
        "id": "kZKSFXxNN5ml",
        "outputId": "b3845376-38eb-4bd6-f963-ed86ba9cb0b7"
      },
      "execution_count": null,
      "outputs": [
        {
          "output_type": "display_data",
          "data": {
            "image/png": "[encoded data removed]",
            "text/plain": [
              "<Figure size 432x288 with 1 Axes>"
            ]
          },
          "metadata": {
            "needs_background": "light"
          }
        }
      ]
    },
    {
      "cell_type": "code",
      "source": [
        "X = df.copy()\n",
        "X = X.drop('Species', axis=1)\n",
        "X.describe()"
      ],
      "metadata": {
        "colab": {
          "base_uri": "https://localhost:8080/",
          "height": 300
        },
        "id": "-_GR5tdpOC5H",
        "outputId": "71c8dcdf-f7cf-499c-e4a2-30cab85e7eca"
      },
      "execution_count": null,
      "outputs": [
        {
          "output_type": "execute_result",
          "data": {
            "text/html": [
              "\n",
              "  <div id=\"df-35a75fdd-b052-45a0-9d2c-a03c29396365\">\n",
              "    <div class=\"colab-df-container\">\n",
              "      <div>\n",
              "<style scoped>\n",
              "    .dataframe tbody tr th:only-of-type {\n",
              "        vertical-align: middle;\n",
              "    }\n",
              "\n",
              "    .dataframe tbody tr th {\n",
              "        vertical-align: top;\n",
              "    }\n",
              "\n",
              "    .dataframe thead th {\n",
              "        text-align: right;\n",
              "    }\n",
              "</style>\n",
              "<table border=\"1\" class=\"dataframe\">\n",
              "  <thead>\n",
              "    <tr style=\"text-align: right;\">\n",
              "      <th></th>\n",
              "      <th>Id</th>\n",
              "      <th>SepalLengthCm</th>\n",
              "      <th>SepalWidthCm</th>\n",
              "      <th>PetalLengthCm</th>\n",
              "      <th>PetalWidthCm</th>\n",
              "    </tr>\n",
              "  </thead>\n",
              "  <tbody>\n",
              "    <tr>\n",
              "      <th>count</th>\n",
              "      <td>150.000000</td>\n",
              "      <td>150.000000</td>\n",
              "      <td>150.000000</td>\n",
              "      <td>150.000000</td>\n",
              "      <td>150.000000</td>\n",
              "    </tr>\n",
              "    <tr>\n",
              "      <th>mean</th>\n",
              "      <td>75.500000</td>\n",
              "      <td>5.843333</td>\n",
              "      <td>3.054000</td>\n",
              "      <td>3.758667</td>\n",
              "      <td>1.198667</td>\n",
              "    </tr>\n",
              "    <tr>\n",
              "      <th>std</th>\n",
              "      <td>43.445368</td>\n",
              "      <td>0.828066</td>\n",
              "      <td>0.433594</td>\n",
              "      <td>1.764420</td>\n",
              "      <td>0.763161</td>\n",
              "    </tr>\n",
              "    <tr>\n",
              "      <th>min</th>\n",
              "      <td>1.000000</td>\n",
              "      <td>4.300000</td>\n",
              "      <td>2.000000</td>\n",
              "      <td>1.000000</td>\n",
              "      <td>0.100000</td>\n",
              "    </tr>\n",
              "    <tr>\n",
              "      <th>25%</th>\n",
              "      <td>38.250000</td>\n",
              "      <td>5.100000</td>\n",
              "      <td>2.800000</td>\n",
              "      <td>1.600000</td>\n",
              "      <td>0.300000</td>\n",
              "    </tr>\n",
              "    <tr>\n",
              "      <th>50%</th>\n",
              "      <td>75.500000</td>\n",
              "      <td>5.800000</td>\n",
              "      <td>3.000000</td>\n",
              "      <td>4.350000</td>\n",
              "      <td>1.300000</td>\n",
              "    </tr>\n",
              "    <tr>\n",
              "      <th>75%</th>\n",
              "      <td>112.750000</td>\n",
              "      <td>6.400000</td>\n",
              "      <td>3.300000</td>\n",
              "      <td>5.100000</td>\n",
              "      <td>1.800000</td>\n",
              "    </tr>\n",
              "    <tr>\n",
              "      <th>max</th>\n",
              "      <td>150.000000</td>\n",
              "      <td>7.900000</td>\n",
              "      <td>4.400000</td>\n",
              "      <td>6.900000</td>\n",
              "      <td>2.500000</td>\n",
              "    </tr>\n",
              "  </tbody>\n",
              "</table>\n",
              "</div>\n",
              "      <button class=\"colab-df-convert\" onclick=\"convertToInteractive('df-35a75fdd-b052-45a0-9d2c-a03c29396365')\"\n",
              "              title=\"Convert this dataframe to an interactive table.\"\n",
              "              style=\"display:none;\">\n",
              "        \n",
              "  <svg xmlns=\"http://www.w3.org/2000/svg\" height=\"24px\"viewBox=\"0 0 24 24\"\n",
              "       width=\"24px\">\n",
              "    <path d=\"M0 0h24v24H0V0z\" fill=\"none\"/>\n",
              "    <path d=\"M18.56 5.44l.94 2.06.94-2.06 2.06-.94-2.06-.94-.94-2.06-.94 2.06-2.06.94zm-11 1L8.5 8.5l.94-2.06 2.06-.94-2.06-.94L8.5 2.5l-.94 2.06-2.06.94zm10 10l.94 2.06.94-2.06 2.06-.94-2.06-.94-.94-2.06-.94 2.06-2.06.94z\"/><path d=\"M17.41 7.96l-1.37-1.37c-.4-.4-.92-.59-1.43-.59-.52 0-1.04.2-1.43.59L10.3 9.45l-7.72 7.72c-.78.78-.78 2.05 0 2.83L4 21.41c.39.39.9.59 1.41.59.51 0 1.02-.2 1.41-.59l7.78-7.78 2.81-2.81c.8-.78.8-2.07 0-2.86zM5.41 20L4 18.59l7.72-7.72 1.47 1.35L5.41 20z\"/>\n",
              "  </svg>\n",
              "      </button>\n",
              "      \n",
              "  <style>\n",
              "    .colab-df-container {\n",
              "      display:flex;\n",
              "      flex-wrap:wrap;\n",
              "      gap: 12px;\n",
              "    }\n",
              "\n",
              "    .colab-df-convert {\n",
              "      background-color: #E8F0FE;\n",
              "      border: none;\n",
              "      border-radius: 50%;\n",
              "      cursor: pointer;\n",
              "      display: none;\n",
              "      fill: #1967D2;\n",
              "      height: 32px;\n",
              "      padding: 0 0 0 0;\n",
              "      width: 32px;\n",
              "    }\n",
              "\n",
              "    .colab-df-convert:hover {\n",
              "      background-color: #E2EBFA;\n",
              "      box-shadow: 0px 1px 2px rgba(60, 64, 67, 0.3), 0px 1px 3px 1px rgba(60, 64, 67, 0.15);\n",
              "      fill: #174EA6;\n",
              "    }\n",
              "\n",
              "    [theme=dark] .colab-df-convert {\n",
              "      background-color: #3B4455;\n",
              "      fill: #D2E3FC;\n",
              "    }\n",
              "\n",
              "    [theme=dark] .colab-df-convert:hover {\n",
              "      background-color: #434B5C;\n",
              "      box-shadow: 0px 1px 3px 1px rgba(0, 0, 0, 0.15);\n",
              "      filter: drop-shadow(0px 1px 2px rgba(0, 0, 0, 0.3));\n",
              "      fill: #FFFFFF;\n",
              "    }\n",
              "  </style>\n",
              "\n",
              "      <script>\n",
              "        const buttonEl =\n",
              "          document.querySelector('#df-35a75fdd-b052-45a0-9d2c-a03c29396365 button.colab-df-convert');\n",
              "        buttonEl.style.display =\n",
              "          google.colab.kernel.accessAllowed ? 'block' : 'none';\n",
              "\n",
              "        async function convertToInteractive(key) {\n",
              "          const element = document.querySelector('#df-35a75fdd-b052-45a0-9d2c-a03c29396365');\n",
              "          const dataTable =\n",
              "            await google.colab.kernel.invokeFunction('convertToInteractive',\n",
              "                                                     [key], {});\n",
              "          if (!dataTable) return;\n",
              "\n",
              "          const docLinkHtml = 'Like what you see? Visit the ' +\n",
              "            '<a target=\"_blank\" href=https://colab.research.google.com/notebooks/data_table.ipynb>data table notebook</a>'\n",
              "            + ' to learn more about interactive tables.';\n",
              "          element.innerHTML = '';\n",
              "          dataTable['output_type'] = 'display_data';\n",
              "          await google.colab.output.renderOutput(dataTable, element);\n",
              "          const docLink = document.createElement('div');\n",
              "          docLink.innerHTML = docLinkHtml;\n",
              "          element.appendChild(docLink);\n",
              "        }\n",
              "      </script>\n",
              "    </div>\n",
              "  </div>\n",
              "  "
            ],
            "text/plain": [
              "               Id  SepalLengthCm  SepalWidthCm  PetalLengthCm  PetalWidthCm\n",
              "count  150.000000     150.000000    150.000000     150.000000    150.000000\n",
              "mean    75.500000       5.843333      3.054000       3.758667      1.198667\n",
              "std     43.445368       0.828066      0.433594       1.764420      0.763161\n",
              "min      1.000000       4.300000      2.000000       1.000000      0.100000\n",
              "25%     38.250000       5.100000      2.800000       1.600000      0.300000\n",
              "50%     75.500000       5.800000      3.000000       4.350000      1.300000\n",
              "75%    112.750000       6.400000      3.300000       5.100000      1.800000\n",
              "max    150.000000       7.900000      4.400000       6.900000      2.500000"
            ]
          },
          "metadata": {},
          "execution_count": 6
        }
      ]
    },
    {
      "cell_type": "code",
      "source": [
        "mms = MinMaxScaler()\n",
        "mms.fit(X)\n",
        "Xnorm = mms.transform(X)\n",
        "Xnorm.shape"
      ],
      "metadata": {
        "colab": {
          "base_uri": "https://localhost:8080/"
        },
        "id": "E0AkzPJzOGKt",
        "outputId": "df98b947-f49e-483c-a9b4-310339167263"
      },
      "execution_count": null,
      "outputs": [
        {
          "output_type": "execute_result",
          "data": {
            "text/plain": [
              "(150, 5)"
            ]
          },
          "metadata": {},
          "execution_count": 7
        }
      ]
    },
    {
      "cell_type": "markdown",
      "source": [
        "K-Means Clustering"
      ],
      "metadata": {
        "id": "9RJhnOfpRLpx"
      }
    },
    {
      "cell_type": "code",
      "source": [
        "# Not knowing the number of clusters (3) we try a range such 1,10\n",
        "# For the ELBOW method check with and without init='k-means++'\n",
        "\n",
        "Sum_of_squared_distances = []\n",
        "for k in range(1,10):\n",
        "    km = KMeans(n_clusters=k)\n",
        "    km = km.fit(Xnorm)\n",
        "    Sum_of_squared_distances.append(km.inertia_)\n",
        "plt.plot(range(1,10), Sum_of_squared_distances, 'bx-')\n",
        "plt.xlabel('k')\n",
        "plt.ylabel('Sum_of_squared_distances')\n",
        "plt.title('Elbow Method For Optimal k')\n",
        "plt.show()\n",
        "# Knowing from the ELBOW method that k=3 ...\n",
        "start_time=time.time()\n",
        "kmeans3 = KMeans(n_clusters = 3,random_state = 0)\n",
        "y_kmeans = kmeans3.fit_predict(Xnorm)\n",
        "X_data = df.copy()\n",
        "X_data[\"Class\"] = y_kmeans\n",
        "\n",
        "KM_clustered = Xnorm.copy()\n",
        "KM_clustered = pd.DataFrame(KM_clustered)\n",
        "KM_clustered.loc[:,'Cluster'] = kmeans3.labels_ # append labels to points\n",
        "\n",
        "frames = [df['Species'], KM_clustered['Cluster']]\n",
        "result = pd.concat(frames, axis = 1)\n",
        "#print(result.shape)\n",
        "#result.sample(5)\n",
        "for ClusterNum in range(3):\n",
        "\n",
        "    OneCluster = pd.DataFrame(result[result['Cluster'] == ClusterNum].groupby('Species').size())\n",
        "    OneCluster.columns=['Size']\n",
        "    \n",
        "    NewDigit = OneCluster.index[OneCluster['Size'] == OneCluster['Size'].max()].tolist()\n",
        "    NewDigit[0]\n",
        "\n",
        "    rowIndex = result.index[result['Cluster'] == ClusterNum]\n",
        "    result.loc[rowIndex, 'TransLabel'] = NewDigit[0]\n",
        "    \n",
        "    print(ClusterNum, NewDigit[0])\n",
        "print(\"Execution time \",time.time()-start_time)    "
      ],
      "metadata": {
        "colab": {
          "base_uri": "https://localhost:8080/",
          "height": 365
        },
        "id": "Wj02pdXiOGSo",
        "outputId": "1f836372-7717-4996-9342-277798744252"
      },
      "execution_count": null,
      "outputs": [
        {
          "output_type": "display_data",
          "data": {
            "image/png": "[encoded data removed]",
            "text/plain": [
              "<Figure size 432x288 with 1 Axes>"
            ]
          },
          "metadata": {
            "needs_background": "light"
          }
        },
        {
          "output_type": "stream",
          "name": "stdout",
          "text": [
            "0 Iris-setosa\n",
            "1 Iris-virginica\n",
            "2 Iris-versicolor\n",
            "Execution time  0.06979608535766602\n"
          ]
        }
      ]
    },
    {
      "cell_type": "code",
      "source": [
        "print('K-Means performance')\n",
        "print('-'*60)\n",
        "\n",
        "Correct = (df['Species'] == result['TransLabel']).sum()\n",
        "Accuracy = round(Correct/df.shape[0],3)\n",
        "print('Accuracy ', Accuracy)"
      ],
      "metadata": {
        "colab": {
          "base_uri": "https://localhost:8080/"
        },
        "id": "SYW7vO3jOGaS",
        "outputId": "2f95c611-7ff0-4ddb-d4a0-c941393294c4"
      },
      "execution_count": null,
      "outputs": [
        {
          "output_type": "stream",
          "name": "stdout",
          "text": [
            "K-Means performance\n",
            "------------------------------------------------------------\n",
            "Accuracy  0.98\n"
          ]
        }
      ]
    },
    {
      "cell_type": "code",
      "source": [
        "plt.scatter(X_data.SepalLengthCm[y_kmeans == 0], X_data.PetalLengthCm[y_kmeans == 0], s = 50, c = 'red', label = 'Iris-setosa')\n",
        "plt.scatter(X_data.SepalLengthCm[y_kmeans == 1], X_data.PetalLengthCm[y_kmeans == 1], s = 50, c = 'blue', label = 'Iris-versicolour')\n",
        "plt.scatter(X_data.SepalLengthCm[y_kmeans == 2], X_data.PetalLengthCm[y_kmeans == 2], s = 50, c = 'green', label = 'Iris-virginica')\n",
        "plt.legend()\n",
        "plt.title(\"K-Means\") \n",
        "plt.xlabel(\"SepalLengthCm\")\n",
        "plt.ylabel(\"PetalLengthCm\")"
      ],
      "metadata": {
        "colab": {
          "base_uri": "https://localhost:8080/",
          "height": 312
        },
        "id": "qloHU5sSOGgJ",
        "outputId": "17acdc26-384d-49ab-916f-fe97523c33b3"
      },
      "execution_count": null,
      "outputs": [
        {
          "output_type": "execute_result",
          "data": {
            "text/plain": [
              "Text(0, 0.5, 'PetalLengthCm')"
            ]
          },
          "metadata": {},
          "execution_count": 10
        },
        {
          "output_type": "display_data",
          "data": {
            "image/png": "[encoded data removed]",
            "text/plain": [
              "<Figure size 432x288 with 1 Axes>"
            ]
          },
          "metadata": {
            "needs_background": "light"
          }
        }
      ]
    },
    {
      "cell_type": "markdown",
      "source": [
        "Hierarcical clustering"
      ],
      "metadata": {
        "id": "iNthuMAAOaMA"
      }
    },
    {
      "cell_type": "code",
      "source": [
        "start_time=time.time()\n",
        "sc = AgglomerativeClustering(n_clusters = 3)\n",
        "hc_predict = sc.fit_predict(Xnorm)\n",
        "hc_predict\n",
        "labels = sc.labels_\n",
        "\n",
        "labels_unique = np.unique(labels)\n",
        "n_clusters_ = len(labels_unique)\n",
        "print(\"number of estimated clusters : %d\" % n_clusters_)\n",
        "\n",
        "Clustered = Xnorm.copy()\n",
        "Clustered = pd.DataFrame(Clustered)\n",
        "Clustered.loc[:,'Cluster'] = sc.labels_ # append labels to points\n",
        "#Clustered.sample(5)\n",
        "\n",
        "frames = [df['Species'], Clustered['Cluster']]\n",
        "result = pd.concat(frames, axis = 1)\n",
        "#print(result.shape)\n",
        "#result.sample(5)\n",
        "for ClusterNum in range(3):\n",
        "\n",
        "    OneCluster = pd.DataFrame(result[result['Cluster'] == ClusterNum].groupby('Species').size())\n",
        "    OneCluster.columns=['Size']\n",
        "    \n",
        "    NewDigit = OneCluster.index[OneCluster['Size'] == OneCluster['Size'].max()].tolist()\n",
        "    NewDigit[0]\n",
        "\n",
        "    rowIndex = result.index[result['Cluster'] == ClusterNum]\n",
        "    result.loc[rowIndex, 'TransLabel'] = NewDigit[0]\n",
        "    \n",
        "    print(ClusterNum, NewDigit[0])\n",
        "print(\"Execution time \",time.time()-start_time)    "
      ],
      "metadata": {
        "colab": {
          "base_uri": "https://localhost:8080/"
        },
        "id": "RzBpr7-EOWfF",
        "outputId": "e5227dbb-ae8c-4d40-c0e3-cce29fcc85fb"
      },
      "execution_count": null,
      "outputs": [
        {
          "output_type": "stream",
          "name": "stdout",
          "text": [
            "number of estimated clusters : 3\n",
            "0 Iris-virginica\n",
            "1 Iris-setosa\n",
            "2 Iris-versicolor\n",
            "Execution time  0.0177614688873291\n"
          ]
        }
      ]
    },
    {
      "cell_type": "code",
      "source": [
        "print('Agglomerative clustering performance')\n",
        "print('-'*60)\n",
        "\n",
        "Correct = (df['Species'] == result['TransLabel']).sum()\n",
        "Accuracy = round(Correct/df.shape[0],3)\n",
        "print('Accuracy ', Accuracy)"
      ],
      "metadata": {
        "colab": {
          "base_uri": "https://localhost:8080/"
        },
        "id": "CMOZGPKFOWp_",
        "outputId": "071f7162-e714-4f47-a058-f7534f0a1cd9"
      },
      "execution_count": null,
      "outputs": [
        {
          "output_type": "stream",
          "name": "stdout",
          "text": [
            "Agglomerative clustering performance\n",
            "------------------------------------------------------------\n",
            "Accuracy  1.0\n"
          ]
        }
      ]
    },
    {
      "cell_type": "code",
      "source": [
        "#Normalise the scaled data\n",
        "X_normalized = normalize(Xnorm) \n",
        "X_normalized_df = pd.DataFrame(X_normalized,columns = X.columns)\n",
        "\n",
        "plt.figure(figsize =(8, 8)) \n",
        "plt.title('Visualising the data') \n",
        "Dendrogram = shc.dendrogram((shc.linkage(X_normalized, method ='ward')))"
      ],
      "metadata": {
        "colab": {
          "base_uri": "https://localhost:8080/",
          "height": 498
        },
        "id": "Eq9Fok_ZOl9N",
        "outputId": "3113c31a-6794-4bcb-98c4-8665c9ec5ffd"
      },
      "execution_count": null,
      "outputs": [
        {
          "output_type": "display_data",
          "data": {
            "image/png": "[encoded data removed]",
            "text/plain": [
              "<Figure size 576x576 with 1 Axes>"
            ]
          },
          "metadata": {
            "needs_background": "light"
          }
        }
      ]
    },
    {
      "cell_type": "code",
      "source": [
        "# Visualizing the clustering  \n",
        "X_hier = X_normalized_df.copy()\n",
        "X_hier[\"Class\"] = hc_predict\n",
        "\n",
        "plt.figure(figsize =(6, 6))\n",
        "plt.scatter(X_hier.SepalLengthCm[X_hier.Class == 0], X_hier.PetalLengthCm[X_hier.Class == 0], s = 50, c = 'red', label = 'Iris-setosa')\n",
        "plt.scatter(X_hier.SepalLengthCm[X_hier.Class == 1], X_hier.PetalLengthCm[X_hier.Class == 1], s = 50, c = 'blue', label = 'Iris-versicolour')\n",
        "plt.scatter(X_hier.SepalLengthCm[X_hier.Class == 2], X_hier.PetalLengthCm[X_hier.Class == 2], s = 50, c = 'green', label = 'Iris-virginica')\n",
        "plt.legend()\n",
        "plt.title(\"Hierarchical\") \n",
        "plt.xlabel(\"SepalLengthCm\")\n",
        "plt.ylabel(\"PetalLengthCm\")\n",
        "plt.show() "
      ],
      "metadata": {
        "colab": {
          "base_uri": "https://localhost:8080/",
          "height": 404
        },
        "id": "8HQSu-XvOs0h",
        "outputId": "0ddc7805-d5b3-427f-83d7-67c8c72dbad2"
      },
      "execution_count": null,
      "outputs": [
        {
          "output_type": "display_data",
          "data": {
            "image/png": "[encoded data removed]",
            "text/plain": [
              "<Figure size 432x432 with 1 Axes>"
            ]
          },
          "metadata": {
            "needs_background": "light"
          }
        }
      ]
    },
    {
      "cell_type": "markdown",
      "source": [
        "Spectral clustering"
      ],
      "metadata": {
        "id": "4dIRzX89OzSk"
      }
    },
    {
      "cell_type": "code",
      "source": [
        "start_time=time.time()\n",
        "sc = SpectralClustering(n_clusters = 3)\n",
        "sc.fit(Xnorm)\n",
        "# labels = ms.labels_\n",
        "labels = sc.labels_\n",
        "\n",
        "labels_unique = np.unique(labels)\n",
        "n_clusters_ = len(labels_unique)\n",
        "print(\"number of estimated clusters : %d\" % n_clusters_)\n",
        "\n",
        "Clustered = Xnorm.copy()\n",
        "Clustered = pd.DataFrame(Clustered)\n",
        "Clustered.loc[:,'Cluster'] = sc.labels_ # append labels to points\n",
        "#Clustered.sample(5)\n",
        "\n",
        "frames = [df['Species'], Clustered['Cluster']]\n",
        "result = pd.concat(frames, axis = 1)\n",
        "#print(result.shape)\n",
        "#result.sample(5)\n",
        "for ClusterNum in range(3):\n",
        "\n",
        "    OneCluster = pd.DataFrame(result[result['Cluster'] == ClusterNum].groupby('Species').size())\n",
        "    OneCluster.columns=['Size']\n",
        "    \n",
        "    NewDigit = OneCluster.index[OneCluster['Size'] == OneCluster['Size'].max()].tolist()\n",
        "    NewDigit[0]\n",
        "\n",
        "    rowIndex = result.index[result['Cluster'] == ClusterNum]\n",
        "    result.loc[rowIndex, 'TransLabel'] = NewDigit[0]\n",
        "    \n",
        "    print(ClusterNum, NewDigit[0])\n",
        "print(\"Execution time \",time.time()-start_time)    "
      ],
      "metadata": {
        "colab": {
          "base_uri": "https://localhost:8080/"
        },
        "id": "76lPmLowOwvA",
        "outputId": "9066fb55-f53d-4b57-82b4-36ad8b2947e1"
      },
      "execution_count": null,
      "outputs": [
        {
          "output_type": "stream",
          "name": "stdout",
          "text": [
            "number of estimated clusters : 3\n",
            "0 Iris-versicolor\n",
            "1 Iris-virginica\n",
            "2 Iris-setosa\n",
            "Execution time  0.15899181365966797\n"
          ]
        }
      ]
    },
    {
      "cell_type": "code",
      "source": [
        "# Check performance of classification to 3 clusters\n",
        "\n",
        "print('Spectral clustering performance')\n",
        "print('-'*60)\n",
        "\n",
        "Correct = (df['Species'] == result['TransLabel']).sum()\n",
        "Accuracy = round(Correct/df.shape[0],3)\n",
        "print('Accuracy ', Accuracy)"
      ],
      "metadata": {
        "colab": {
          "base_uri": "https://localhost:8080/"
        },
        "id": "ZUt0JQDvO3pP",
        "outputId": "672fb5c3-7960-44eb-fd58-88237e90c78b"
      },
      "execution_count": null,
      "outputs": [
        {
          "output_type": "stream",
          "name": "stdout",
          "text": [
            "Spectral clustering performance\n",
            "------------------------------------------------------------\n",
            "Accuracy  0.907\n"
          ]
        }
      ]
    },
    {
      "cell_type": "code",
      "source": [
        "# visualization\n",
        "X_normalized = normalize(Xnorm)\n",
        "X_normalized = pd.DataFrame(Xnorm)\n",
        "pca = PCA(n_components = 2) \n",
        "X = pca.fit_transform(X_normalized)\n",
        "\n",
        "fig, ax = plt.subplots()\n",
        "plt.scatter(X[sc.labels_ == 0, 0], X[sc.labels_ == 0, 1], c='green', label='cluster 1')\n",
        "plt.scatter(X[sc.labels_ == 1, 0], X[sc.labels_ == 1, 1], c='blue', label='cluster 2')\n",
        "plt.scatter(X[sc.labels_ == 2, 0], X[sc.labels_ == 2, 1], c='red', label='cluster 3')\n",
        "ax.set(xlabel='P1', ylabel='P2', title='Graph showing the classification done by spectral clustering.')\n",
        "plt.legend()"
      ],
      "metadata": {
        "colab": {
          "base_uri": "https://localhost:8080/",
          "height": 312
        },
        "id": "L3liAaMZO5cQ",
        "outputId": "49441c0e-067d-4163-c714-a29a33171b6e"
      },
      "execution_count": null,
      "outputs": [
        {
          "output_type": "execute_result",
          "data": {
            "text/plain": [
              "<matplotlib.legend.Legend at 0x7fdb2aea6810>"
            ]
          },
          "metadata": {},
          "execution_count": 17
        },
        {
          "output_type": "display_data",
          "data": {
            "image/png": "[encoded data removed]",
            "text/plain": [
              "<Figure size 432x288 with 1 Axes>"
            ]
          },
          "metadata": {
            "needs_background": "light"
          }
        }
      ]
    },
    {
      "cell_type": "markdown",
      "source": [
        "Fuzzy_C_means"
      ],
      "metadata": {
        "id": "JLwKJk-VPIaW"
      }
    },
    {
      "cell_type": "code",
      "source": [
        "from pylab import *\n",
        "from numpy import *\n",
        "import pandas as pd\n",
        "import numpy as np\n",
        "import operator\n",
        "import math\n",
        "import matplotlib.pyplot as plt\n",
        "import random\n",
        "import time\n",
        "\n",
        "#Data is saved in a .csv file\n",
        "df_full = pd.read_csv(\"Iris.csv\")\n",
        "# class_labels = list(df_full[columns[-1]])\n",
        "columns = list(df_full.columns)\n",
        "features = columns[:len(columns) - 1]\n",
        "class_labels = list(df_full[columns[-1]])\n",
        "df = df_full[features]\n",
        "# \n",
        "num_attr = len(df.columns) - 1\n",
        "# \n",
        "k = 3\n",
        "# Maximum number of iterations\n",
        "MAX_ITER = 100\n",
        "# Number of samples\n",
        "n = len(df)  # the number of row\n",
        "# fuzzy parameter\n",
        "m = 2.00\n",
        "\n",
        "\n",
        "# Initialize the fuzzy matrix U\n",
        "def initializeMembershipMatrix():\n",
        "    membership_mat = list()\n",
        "    for i in range(n):\n",
        "        random_num_list = [random.random() for i in range(k)]\n",
        "        summation = sum(random_num_list)\n",
        "        temp_list = [x / summation for x in random_num_list]  #First normalization\n",
        "        membership_mat.append(temp_list)\n",
        "    return membership_mat\n",
        "\n",
        "\n",
        "# \n",
        "def calculateClusterCenter(membership_mat):\n",
        "    cluster_mem_val = zip(*membership_mat)\n",
        "    cluster_centers = list()\n",
        "    cluster_mem_val_list = list(cluster_mem_val)\n",
        "    for j in range(k):\n",
        "        x = cluster_mem_val_list[j]\n",
        "        xraised = [e ** m for e in x]\n",
        "        denominator = sum(xraised)\n",
        "        temp_num = list()\n",
        "        for i in range(n):\n",
        "            data_point = list(df.iloc[i])\n",
        "            prod = [xraised[i] * val for val in data_point]\n",
        "            temp_num.append(prod)\n",
        "        numerator = map(sum, zip(*temp_num))\n",
        "        center = [z / denominator for z in numerator]  # Each dimension must be calculated.\n",
        "        cluster_centers.append(center)\n",
        "    return cluster_centers\n",
        "\n",
        "\n",
        "#Update membership\n",
        "def updateMembershipValue(membership_mat, cluster_centers):\n",
        "    #    p = float(2/(m-1))\n",
        "    data = []\n",
        "    for i in range(n):\n",
        "        x = list(df.iloc[i])  # Take out each line of data in the file\n",
        "        data.append(x)\n",
        "        distances = [np.linalg.norm(list(map(operator.sub, x, cluster_centers[j]))) for j in range(k)]\n",
        "        for j in range(k):\n",
        "            den = sum([math.pow(float(distances[j] / distances[c]), 2) for c in range(k)])\n",
        "            membership_mat[i][j] = float(1 / den)\n",
        "    return membership_mat, data\n",
        "\n",
        "\n",
        "# Get cluster results\n",
        "def getClusters(membership_mat):\n",
        "    cluster_labels = list()\n",
        "    for i in range(n):\n",
        "        max_val, idx = max((val, idx) for (idx, val) in enumerate(membership_mat[i]))\n",
        "        cluster_labels.append(idx)\n",
        "    return cluster_labels\n",
        "\n",
        "\n",
        "def fuzzyCMeansClustering():\n",
        "    # \n",
        "    membership_mat = initializeMembershipMatrix()\n",
        "    curr = 0\n",
        "    while curr <= MAX_ITER:  # The maximum number of iterations\n",
        "        cluster_centers = calculateClusterCenter(membership_mat)\n",
        "        membership_mat, data = updateMembershipValue(membership_mat, cluster_centers)\n",
        "        cluster_labels = getClusters(membership_mat)\n",
        "        curr += 1\n",
        "    # print(membership_mat)\n",
        "    return cluster_labels, cluster_centers, data, membership_mat\n",
        "\n",
        "#Calculating the accuracy\n",
        "# P.S. The accuracy calculation is for iris data only\n",
        "def accuracy(cluster_labels, class_labels):\n",
        "    correct_pred = 0\n",
        "    #print(cluster_labels)\n",
        "    seto = max(set(labels[0:50]), key=labels[0:50].count)\n",
        "    vers = max(set(labels[50:100]), key=labels[50:100].count)\n",
        "    virg = max(set(labels[100:]), key=labels[100:].count)\n",
        "    \n",
        "    for i in range(len(df)):\n",
        "        if cluster_labels[i] == seto and class_labels[i] == 'Iris-setosa':\n",
        "            correct_pred = correct_pred + 1\n",
        "        if cluster_labels[i] == vers and class_labels[i] == 'Iris-versicolor' and vers!=seto:\n",
        "            correct_pred = correct_pred + 1\n",
        "        if cluster_labels[i] == virg and class_labels[i] == 'Iris-virginica' and virg!=seto and virg!=vers:\n",
        "            correct_pred = correct_pred + 1\n",
        "            \n",
        "    accuracy = (correct_pred/len(df))\n",
        "    return accuracy\n",
        "\n",
        "start_time=time.time()\n",
        "labels, centers, data, membership = fuzzyCMeansClustering()\n",
        "print(\"Execution time \",time.time()-start_time) \n",
        "a = accuracy(labels, class_labels)\n",
        "print(\"Accuracy = \" + str(round(a, 2)))\n",
        "center_array = array(centers)\n",
        "label = array(labels);\n",
        "datas = array(data);\n",
        "\n",
        "fig = plt.gcf()\n",
        "fig.set_size_inches(10, 10)\n",
        "f1 = plt.figure(1)\n",
        "plt.scatter(datas[nonzero(label == 0), 0], datas[nonzero(label == 0), 1], marker='o', color='r', label='cluster1', s=10)\n",
        "plt.scatter(datas[nonzero(label == 1), 0], datas[nonzero(label == 1), 1], marker='+', color='b', label='cluster2', s=10)\n",
        "plt.scatter(datas[nonzero(label == 2), 0], datas[nonzero(label == 2), 1], marker='*', color='g', label='cluster3', s=10)\n",
        "plt.scatter(center_array[:, 0], center_array[:, 1], marker='x', color='m', s=30)\n",
        "plt.legend()\n",
        "plt.show()\n",
        "\n"
      ],
      "metadata": {
        "id": "0ap3piitPHyt",
        "colab": {
          "base_uri": "https://localhost:8080/",
          "height": 627
        },
        "outputId": "01d6d957-9b22-4910-8eb1-8c052834fd7b"
      },
      "execution_count": null,
      "outputs": [
        {
          "output_type": "stream",
          "name": "stdout",
          "text": [
            "Execution time  9.660130977630615\n",
            "Accuracy = 0.99\n"
          ]
        },
        {
          "output_type": "display_data",
          "data": {
            "image/png": "[encoded data removed]",
            "text/plain": [
              "<Figure size 720x720 with 1 Axes>"
            ]
          },
          "metadata": {
            "needs_background": "light"
          }
        }
      ]
    }
  ]
}